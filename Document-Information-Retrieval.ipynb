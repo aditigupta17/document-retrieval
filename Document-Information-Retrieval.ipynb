{
 "cells": [
  {
   "cell_type": "code",
   "execution_count": 2,
   "metadata": {
    "collapsed": true
   },
   "outputs": [],
   "source": [
    "import numpy as np\n",
    "import pandas as pd\n",
    "import matplotlib.pyplot as plt\n",
    "import matplotlib.cm as cm\n",
    "import time\n",
    "\n",
    "from sklearn.cluster import MiniBatchKMeans\n",
    "from sklearn.feature_extraction.text import TfidfVectorizer\n",
    "from sklearn.decomposition import PCA\n",
    "from sklearn.manifold import TSNE"
   ]
  },
  {
   "cell_type": "code",
   "execution_count": 3,
   "metadata": {
    "collapsed": false
   },
   "outputs": [
    {
     "name": "stdout",
     "output_type": "stream",
     "text": [
      "['Mention', ' DBpedia Uri', ' NIF Uri', ' Type']\n"
     ]
    }
   ],
   "source": [
    "import csv\n",
    "with open(\"/home/aditi/document-information-retrieval/wikilink_ner.csv\", \"r\") as f:\n",
    "    reader = csv.reader(f)\n",
    "    i = next(reader)\n",
    "    print(i)"
   ]
  },
  {
   "cell_type": "code",
   "execution_count": 4,
   "metadata": {
    "collapsed": false
   },
   "outputs": [],
   "source": [
    "# Importing libraries\n",
    "from sklearn.feature_extraction.text import TfidfVectorizer\n",
    "from sklearn.neighbors import KNeighborsClassifier\n",
    "from sklearn.cluster import KMeans\n",
    "from nltk.corpus import stopwords \n",
    "from nltk.stem.wordnet import WordNetLemmatizer\n",
    "import string\n",
    "import re\n",
    "import numpy as np\n",
    "from collections import Counter\n",
    "\n",
    "stop = set(stopwords.words('english'))\n",
    "exclude = set(string.punctuation) \n",
    "lemma = WordNetLemmatizer()\n",
    "\n",
    "# Cleaning the text sentences so that punctuation marks, stop words & digits are removed  \n",
    "def clean(doc):\n",
    "    stop_free = \" \".join([i for i in doc.lower().split() if i not in stop])\n",
    "    punc_free = ''.join(ch for ch in stop_free if ch not in exclude)\n",
    "    normalized = \" \".join(lemma.lemmatize(word) for word in punc_free.split())\n",
    "    processed = re.sub(r\"\\d+\",\"\",normalized)\n",
    "    y = processed.split()\n",
    "    return y\n",
    "\n",
    "import nltk.data\n",
    "\n",
    "data = []\n",
    "corpus = []\n",
    "tokenizer = nltk.data.load('tokenizers/punkt/english.pickle')\n",
    "fp = open(\"sentences.txt\")\n",
    "for line in fp:\n",
    "    line = line.strip()\n",
    "    cleaned = clean(line)\n",
    "    data.append(cleaned)\n",
    "\n",
    "corpus = [' '.join(i) for i in data]\n",
    "#print(corpus)\n",
    "\n",
    "#Count Vectoriser then tidf transformer\n",
    "from sklearn.feature_extraction.text import CountVectorizer\n",
    "\n",
    "vectorizer = CountVectorizer()\n",
    "X = vectorizer.fit_transform(corpus)"
   ]
  },
  {
   "cell_type": "code",
   "execution_count": 5,
   "metadata": {
    "collapsed": false
   },
   "outputs": [
    {
     "name": "stdout",
     "output_type": "stream",
     "text": [
      "(30, 251)\n"
     ]
    },
    {
     "data": {
      "text/plain": [
       "scipy.sparse.csr.csr_matrix"
      ]
     },
     "execution_count": 5,
     "metadata": {},
     "output_type": "execute_result"
    }
   ],
   "source": [
    "from sklearn.feature_extraction.text import TfidfTransformer\n",
    "\n",
    "transformer = TfidfTransformer(smooth_idf=False)\n",
    "tfidf = transformer.fit_transform(X)\n",
    "print(tfidf.shape) \n",
    "type(tfidf)"
   ]
  },
  {
   "cell_type": "code",
   "execution_count": 6,
   "metadata": {
    "collapsed": false
   },
   "outputs": [
    {
     "name": "stdout",
     "output_type": "stream",
     "text": [
      "[1 1 1 1 1 1 1 1 1 1 2 2 2 2 0 2 2 2 2 2 0 0 0 0 2 0 0 0 0 0]\n",
      "Time taken for K-means Clustering:  1.127117395401001\n",
      "[1 1 1 1 1 1 1 1 1 1 0 2 0 0 0 2 0 0 0 0 0 0 0 0 0 0 0 0 0 0]\n",
      "Time taken for Agglomerative Clustering:  0.10764503479003906\n",
      "[0 0 0 0 0 0 0 0 0 0 1 1 1 1 1 1 1 1 1 1 2 2 2 2 2 2 2 2 2 2]\n",
      "Time taken for Spectral Clustering:  0.5962066650390625\n"
     ]
    },
    {
     "data": {
      "text/plain": [
       "numpy.ndarray"
      ]
     },
     "execution_count": 6,
     "metadata": {},
     "output_type": "execute_result"
    }
   ],
   "source": [
    "times = []\n",
    "algorithm = ['K-means', 'Agglomerative', 'Spectral']\n",
    "start_time = time.time()\n",
    "from sklearn.cluster import KMeans\n",
    "\n",
    "num_clusters = 3\n",
    "km = KMeans(n_clusters=num_clusters)\n",
    "km.fit(tfidf)\n",
    "print(km.labels_)\n",
    "clusters = km.labels_.tolist()\n",
    "elapsed_time = time.time() - start_time\n",
    "times.append(elapsed_time)\n",
    "\n",
    "print(\"Time taken for K-means Clustering: \", elapsed_time)\n",
    "\n",
    "# ====================================================================\n",
    "#   Modification-1 : Implement Agglomerative Heirarchical Clustering\n",
    "# ====================================================================\n",
    "\n",
    "start_time = time.time()\n",
    "from sklearn.cluster import AgglomerativeClustering\n",
    "\n",
    "cluster = AgglomerativeClustering(n_clusters=3, affinity='euclidean', linkage='ward')\n",
    "cluster.fit(tfidf.toarray())\n",
    "print(cluster.labels_)\n",
    "\n",
    "elapsed_time = time.time() - start_time\n",
    "times.append(elapsed_time)\n",
    "\n",
    "print(\"Time taken for Agglomerative Clustering: \", elapsed_time)\n",
    "type(cluster.labels_)\n",
    "\n",
    "# =========================================================\n",
    "#   Modification-2 : Implement Spectral Clustering\n",
    "# =========================================================\n",
    "\n",
    "start_time = time.time()\n",
    "from sklearn.cluster import SpectralClustering \n",
    "\n",
    "# Building the clustering model \n",
    "spectral_model_rbf = SpectralClustering(n_clusters = 3, affinity ='nearest_neighbors') \n",
    "\n",
    "# Training the model and Storing the predicted cluster labels \n",
    "labels_rbf = spectral_model_rbf.fit_predict(tfidf.toarray()) \n",
    "print(labels_rbf)\n",
    "\n",
    "elapsed_time = time.time() - start_time\n",
    "times.append(elapsed_time)\n",
    "\n",
    "print(\"Time taken for Spectral Clustering: \", elapsed_time)\n",
    "type(cluster.labels_)"
   ]
  },
  {
   "cell_type": "code",
   "execution_count": 7,
   "metadata": {
    "collapsed": false
   },
   "outputs": [
    {
     "name": "stdout",
     "output_type": "stream",
     "text": [
      "For number of clusters: 2 ,average Silhouette Score: 0.030369886188607167\n",
      "For number of clusters: 3 ,average Silhouette Score: 0.0415726449734021\n",
      "For number of clusters: 4 ,average Silhouette Score: 0.05810545532468503\n",
      "For number of clusters: 5 ,average Silhouette Score: 0.05513626562733793\n",
      "For number of clusters: 6 ,average Silhouette Score: 0.04393264055788708\n",
      "For number of clusters: 7 ,average Silhouette Score: 0.06083926013790073\n",
      "For number of clusters: 8 ,average Silhouette Score: 0.05330135484023437\n",
      "For number of clusters: 10 ,average Silhouette Score: 0.07146135578128995\n",
      "For number of clusters: 11 ,average Silhouette Score: 0.06732478747285929\n",
      "For number of clusters: 12 ,average Silhouette Score: 0.05784648938780677\n",
      "For number of clusters: 13 ,average Silhouette Score: 0.06910901652237274\n"
     ]
    }
   ],
   "source": [
    "# =======================================================================\n",
    "#   Modification-3 : Implemented Silhouette Analysis to get best cluster\n",
    "# =======================================================================\n",
    "\n",
    "\n",
    "from sklearn.metrics import silhouette_samples, silhouette_score\n",
    "from sklearn.cluster import KMeans\n",
    "def getCluster(n):\n",
    "    km = KMeans(n_clusters=n)\n",
    "    km.fit(tfidf)\n",
    "    clusters = km.labels_\n",
    "    runSilhoutteAnalysis(tfidf, clusters, n)\n",
    "    \n",
    "def runSilhoutteAnalysis(X, cluster, n):\n",
    "    sil_avg = silhouette_score(X, cluster)\n",
    "    print('For number of clusters:', n,',average Silhouette Score:', str(sil_avg))\n",
    "    # Compute the silhouette scores for each sample\n",
    "    sample_silhouette_values = silhouette_samples(X, cluster)\n",
    "    \n",
    "for cluster in [2, 3, 4, 5, 6, 7, 8, 10, 11, 12, 13]:\n",
    "    getCluster(cluster)"
   ]
  },
  {
   "cell_type": "code",
   "execution_count": 8,
   "metadata": {
    "collapsed": false
   },
   "outputs": [
    {
     "data": {
      "image/png": "[encoded data removed]",
      "text/plain": [
       "<Figure size 432x288 with 1 Axes>"
      ]
     },
     "metadata": {},
     "output_type": "display_data"
    }
   ],
   "source": [
    "import matplotlib.pyplot as plt\n",
    "def plot_bar_x():\n",
    "    index = np.arange(len(algorithm))\n",
    "    plt.bar(index, times)\n",
    "    plt.xlabel('Algorithms', fontsize=20)\n",
    "    plt.ylabel('Time taken', fontsize=20)\n",
    "    plt.xticks(index, algorithm, fontsize=20, rotation=30)\n",
    "    plt.title('Time taken by Clustering algorithms')\n",
    "    plt.show()\n",
    "plot_bar_x()"
   ]
  },
  {
   "cell_type": "code",
   "execution_count": 9,
   "metadata": {
    "collapsed": false
   },
   "outputs": [],
   "source": [
    "import pandas as pd\n",
    "idea = {'Idea':corpus, 'Cluster':clusters} #Creating dict having doc with the corresponding cluster number.\n",
    "frame = pd.DataFrame(idea,index=[clusters], columns=['Idea','Cluster']) # Converting it into a dataframe."
   ]
  },
  {
   "cell_type": "code",
   "execution_count": 10,
   "metadata": {
    "collapsed": false
   },
   "outputs": [
    {
     "name": "stdout",
     "output_type": "stream",
     "text": [
      "\n",
      "\n",
      "                                                Idea  Cluster\n",
      "1  cricket bat ball game played two team eleven p...        1\n",
      "1  phase play called inning one team bat attempti...        1\n",
      "1  team one two inning apiece and first inning en...        1\n",
      "1  match begin two team captain meet pitch toss c...        1\n",
      "1  two batsman eleven fielder enter field play be...        1\n",
      "1  common dismissal cricket match bowled bowler h...        1\n",
      "1  run scored two main method either hitting ball...        1\n",
      "1             main objective team score run opponent        1\n",
      "1  team batting last scored fewer run opponent sa...        1\n",
      "1  role striker batsman prevent ball hitting stum...        1\n",
      "2  artificial intelligence intelligence exhibited...        2\n",
      "2  field ai research defines study intelligent ag...        2\n",
      "2  overall research goal artificial intelligence ...        2\n",
      "2  natural language processing give machine abili...        2\n",
      "0  ai researcher developed sophisticated mathemat...        0\n",
      "2  intelligent agent system perceives environment...        2\n",
      "2  ai technique become essential part technology ...        2\n",
      "2  recent advancement ai specifically machine lea...        2\n",
      "2  ai research revived commercial success expert ...        2\n",
      "2  advanced statistical technique loosely known d...        2\n",
      "0  compound pure chemical substance composed one ...        0\n",
      "0  since property element mostly determined elect...        0\n",
      "0  property inertness noble gas make suitable che...        0\n",
      "0  atom also smallest entity envisaged retain che...        0\n",
      "2  nucleus made positively charged proton uncharg...        2\n",
      "0  atom basic unit chemistry consists dense core ...        0\n",
      "0  chemical reaction transformation substance one...        0\n",
      "0  chemistry sometimes called central science bri...        0\n",
      "0  chemistry includes topic property individual a...        0\n",
      "0  chemistry branch physical science study compos...        0\n",
      "\n",
      "\n",
      "2    10\n",
      "1    10\n",
      "0    10\n",
      "Name: Cluster, dtype: int64\n"
     ]
    }
   ],
   "source": [
    "print(\"\\n\")\n",
    "print(frame) #Print the doc with the labeled cluster number.\n",
    "print(\"\\n\")\n",
    "print(frame['Cluster'].value_counts()) #Print the counts of doc belonging to each cluster."
   ]
  },
  {
   "cell_type": "code",
   "execution_count": 11,
   "metadata": {
    "collapsed": false
   },
   "outputs": [
    {
     "name": "stdout",
     "output_type": "stream",
     "text": [
      "{0: [14, 20, 21, 22, 23, 25, 26, 27, 28, 29], 1: [0, 1, 2, 3, 4, 5, 6, 7, 8, 9], 2: [10, 11, 12, 13, 15, 16, 17, 18, 19, 24]}\n"
     ]
    }
   ],
   "source": [
    "result = {}\n",
    "\n",
    "for i in range(len(clusters)):\n",
    "    if clusters[i] in result:\n",
    "        result[clusters[i]].append(i)\n",
    "    else:\n",
    "        temp = [i]\n",
    "        result[clusters[i]] = temp\n",
    "        \n",
    "print(result)\n",
    "\n",
    "# =================================\n",
    "# Call DCI_Closed for each cluster\n",
    "# =================================\n",
    "# d1 -> word1, word2, word3\n",
    "# d2 -> word2, word3\n",
    "# ..."
   ]
  },
  {
   "cell_type": "code",
   "execution_count": 292,
   "metadata": {
    "collapsed": false
   },
   "outputs": [
    {
     "name": "stdout",
     "output_type": "stream",
     "text": [
      "['2', '4']\n",
      "['1', '2', '3', '4']\n",
      "['1', '2', '3']\n",
      "['3']\n",
      "{1: [2, 3], 2: [1, 2, 3], 3: [2, 3, 4], 4: [1, 2]}\n",
      "4\n"
     ]
    }
   ],
   "source": [
    "# ===========================================================\n",
    "#       Step 1 : Create vertical database into memory\n",
    "# ===========================================================\n",
    "file = open(\"database.txt\", \"r\")\n",
    "verticalDatabase = open(\"vdb.txt\", \"w+\")\n",
    "\n",
    "# Use a dictionary for HashMap<Integer, Set<Integer>>\n",
    "# We mapped items to transactions they appear in\n",
    "\n",
    "maxItemId = 0\n",
    "tidCount = 1\n",
    "database = {}      # Dictionary for hashing (int -> list(int))\n",
    "\n",
    "for line in file:\n",
    "    items = line.split()\n",
    "    print(items)\n",
    "    for i in items:\n",
    "        item = int(i)\n",
    "        maxItemId = max(maxItemId, item)\n",
    "        if item in database:\n",
    "            database[item].append(tidCount)\n",
    "        else:\n",
    "            database.update({item: [tidCount]})\n",
    "    tidCount += 1\n",
    "    \n",
    "print(database)\n",
    "print(maxItemId)\n",
    "file.close()"
   ]
  },
  {
   "cell_type": "code",
   "execution_count": 293,
   "metadata": {
    "collapsed": false
   },
   "outputs": [
    {
     "data": {
      "text/plain": [
       "[('cricket', 0.5546549432332832),\n",
       " ('bat', 0.27741674773179725),\n",
       " ('ball', 0.2595098011369835),\n",
       " ('game', 0.36741142246757896),\n",
       " ('played', 0.36741142246757896),\n",
       " ('team', 0.23125473575543234),\n",
       " ('player', 0.36741142246757896),\n",
       " ('field', 0.2993330791115057)]"
      ]
     },
     "execution_count": 293,
     "metadata": {},
     "output_type": "execute_result"
    }
   ],
   "source": [
    "# ========================================================\n",
    "# Calculating TF-IDF values of all words in each sentence\n",
    "# ========================================================\n",
    "from sklearn.feature_extraction.text import TfidfTransformer\n",
    " \n",
    "docs = idea['Idea']\n",
    "tf = TfidfVectorizer(input=docs, analyzer='word', min_df = 0, stop_words = 'english', sublinear_tf=True)\n",
    "tfidf_matrix =  tf.fit_transform(corpus)\n",
    "feature_names = tf.get_feature_names()\n",
    "\n",
    "tfidf_values = []\n",
    "for doc in range(0, len(docs)):\n",
    "    feature_index = tfidf_matrix[doc,:].nonzero()[1]\n",
    "    tfidf_scores = zip(feature_index, [tfidf_matrix[doc, x] for x in feature_index])\n",
    "    currSentence = []\n",
    "    for w, s in [(feature_names[i], s) for (i, s) in tfidf_scores]:\n",
    "        currSentence.append((w, s))\n",
    "    tfidf_values.append(currSentence)\n",
    "\n",
    "# tfidf_values = list of list of tuples of the form (word, TF-IDF score)\n",
    "tfidf_values[0]"
   ]
  },
  {
   "cell_type": "code",
   "execution_count": 315,
   "metadata": {
    "collapsed": false
   },
   "outputs": [
    {
     "name": "stdout",
     "output_type": "stream",
     "text": [
      "3\n"
     ]
    },
    {
     "data": {
      "text/plain": [
       "dict"
      ]
     },
     "execution_count": 315,
     "metadata": {},
     "output_type": "execute_result"
    }
   ],
   "source": [
    "# ========================================================\n",
    "#         Run DCI_Closed for every cluster\n",
    "# ========================================================\n",
    "\n",
    "# Store vertical database for each cluster, access through hD[i]\n",
    "horizontalDatabase = []\n",
    "\n",
    "# Iterating through all clusters\n",
    "for i in range(0, len(result)):\n",
    "    currentCluster = {}\n",
    "    for j in range(0, len(result[i])):   # j = document number\n",
    "        document = result[i][j]          # document id  \n",
    "        for k in range(0, len(tfidf_values[document])):\n",
    "            if tfidf_values[document][k][0] in currentCluster:\n",
    "                currentCluster[tfidf_values[document][k][0]].append(document)\n",
    "            else:\n",
    "                temp = [document]\n",
    "                currentCluster[tfidf_values[document][k][0]] = temp    \n",
    "    horizontalDatabase.append(currentCluster)\n",
    "print(len(horizontalDatabase))\n",
    "type(horizontalDatabase[0])\n",
    "horizontalDatabase"
   ]
  },
  {
   "cell_type": "code",
   "execution_count": 295,
   "metadata": {
    "collapsed": false
   },
   "outputs": [
    {
     "name": "stdout",
     "output_type": "stream",
     "text": [
      "\n",
      "\n",
      "\n",
      "\n",
      "\n",
      "\n",
      "\n",
      "\n",
      "\n",
      "\n",
      "\n",
      "\n",
      "\n",
      "\n",
      "\n",
      "\n",
      "\n",
      "\n",
      "\n",
      "\n",
      "\n",
      "\n",
      "\n",
      "\n",
      "\n",
      "\n",
      "\n",
      "\n",
      "\n",
      "\n",
      "\n",
      "\n",
      "\n",
      "\n",
      "\n",
      "\n",
      "\n",
      "\n",
      "\n",
      "\n",
      "\n",
      "\n",
      "\n",
      "\n",
      "\n",
      "\n",
      "\n",
      "\n",
      "\n",
      "\n",
      "\n",
      "\n",
      "\n",
      "\n",
      "\n",
      "\n",
      "\n",
      "\n",
      "\n",
      "\n",
      "\n",
      "\n",
      "\n",
      "\n",
      "\n",
      "\n",
      "\n",
      "\n",
      "\n",
      "\n",
      "\n",
      "\n",
      "\n",
      "\n",
      "\n",
      "68\n",
      "{0: [['action', 'agent', 'chance', 'environment', 'maximize', 'perceives', 'intelligent', 'success'], ['artificial', 'intelligence', 'machine'], ['goal', 'intelligent', 'research'], ['learning', 'machine'], ['natural'], ['science'], ['solve', 'ai'], ['technique', 'computer'], ['technology', 'computer'], ['computer'], ['computer', 'machine', 'machine'], ['human'], ['human', 'intelligence', 'intelligence', 'machine'], ['human', 'machine', 'intelligence', 'machine'], ['intelligence', 'machine'], ['intelligent'], ['research'], ['research', 'success', 'success', 'ai'], ['research', 'ai', 'success', 'ai'], ['success'], ['success', 'ai', 'ai'], ['ai'], ['machine']], 1: [['called', 'cloud', 'consists', 'nucleus', 'electron'], ['cloud', 'consists', 'nucleus', 'electron'], ['compound', 'chemical', 'property'], ['consists', 'nucleus', 'electron'], ['nucleus', 'electron'], ['chemistry', 'atom'], ['chemistry', 'atom', 'property', 'property'], ['electron'], ['element', 'property'], ['element', 'property', 'chemical', 'chemical'], ['atom'], ['atom', 'chemical', 'chemical', 'property'], ['atom', 'property', 'property'], ['atom', 'property', 'property', 'chemical', 'chemical'], ['chemical', 'property'], ['property']], 2: [['begin', 'team'], ['bowler', 'batsman', 'ball'], ['cricket', 'ball'], ['end'], ['field', 'ball', 'team'], ['hitting', 'batsman', 'ball', 'run'], ['inning', 'team'], ['main', 'run'], ['match'], ['opponent', 'run', 'team'], ['play', 'team'], ['role'], ['scored', 'run'], ['stump', 'batsman', 'ball'], ['score', 'run'], ['score', 'run', 'bat', 'bat'], ['score', 'run', 'team', 'team'], ['bat'], ['bat', 'ball', 'ball'], ['bat', 'run', 'run'], ['bat', 'team', 'team'], ['batsman', 'ball'], ['batsman', 'ball', 'run', 'run'], ['ball'], ['ball', 'run', 'run'], ['ball', 'team', 'team'], ['run'], ['run', 'team', 'team'], ['team']]}\n"
     ]
    }
   ],
   "source": [
    "# ====================================================================\n",
    "#       Step 2: Initialise variables for first call to DCI_Closed\n",
    "# ====================================================================\n",
    "frequentPatterns = {}\n",
    "closedSet = []\n",
    "preSet = []\n",
    "postSet = []\n",
    "closedSetTids = set()\n",
    "closedCount = 0\n",
    "# [Changeable] User-defined minimum support threshold value\n",
    "minSupport = 2\n",
    "clusterId = 1\n",
    "\n",
    "for c in range(0, len(horizontalDatabase)):\n",
    "    clusterId = c\n",
    "    # =============================\n",
    "    # Step 2-1: Creating postSet\n",
    "    # =============================\n",
    "    maxItemId = len(horizontalDatabase[clusterId])\n",
    "\n",
    "    for i in horizontalDatabase[clusterId]:\n",
    "    #     print(i)\n",
    "        tidSet = horizontalDatabase[clusterId].get(i, None)\n",
    "        if (tidSet != None and len(tidSet) >= minSupport):\n",
    "            postSet.append(i)\n",
    "\n",
    "    # print(postSet)\n",
    "\n",
    "    # =============================================================\n",
    "    # Step 2-2: Sort postSet by ascending + lexicographical order\n",
    "    # =============================================================\n",
    "    def bySuppLex(item1, item2):\n",
    "        if(horizontalDatabase[clusterId].get(item1) == None):\n",
    "            return -1\n",
    "        if(horizontalDatabase[clusterId].get(item2) == None):\n",
    "            return 1\n",
    "        size1 = len(horizontalDatabase[clusterId].get(item1))\n",
    "        size2 = len(horizontalDatabase[clusterId].get(item2))\n",
    "        if(size1 == size2):\n",
    "            if item1 < item2:\n",
    "                return -1\n",
    "            else:\n",
    "                return 1\n",
    "        return size1 - size2\n",
    "\n",
    "    def cmp_to_key(myCompare):\n",
    "        class K:\n",
    "            def __init__(self, obj, *args):\n",
    "                self.obj = obj\n",
    "            def __lt__(self, other):\n",
    "                return myCompare(self.obj, other.obj) < 0\n",
    "            def __gt__(self, other):\n",
    "                return myCompare(self.obj, other.obj) > 0\n",
    "            def __eq__(self, other):\n",
    "                return myCompare(self.obj, other.obj) == 0\n",
    "            def __le__(self, other):\n",
    "                return myCompare(self.obj, other.obj) <= 0\n",
    "            def __ge__(self, other):\n",
    "                return myCompare(self.obj, other.obj) >= 0\n",
    "            def __ne__(self, other):\n",
    "                return myCompare(self.obj, other.obj) != 0\n",
    "        return K\n",
    "\n",
    "    # sort modifies the list which is called, sorted returns \n",
    "    # sorted copy without changing original list\n",
    "\n",
    "    postSet.sort(key = cmp_to_key(bySuppLex))\n",
    "    # print(postSet)\n",
    "    # print(\"preset: \", preSet)\n",
    "\n",
    "    # ==========================================\n",
    "    #  Step 3-4: DCI_Closed function\n",
    "    # ==========================================    \n",
    "    def dci_closed(firstTime, closedSet, closedSetTids, postSet, preSet):\n",
    "        global closedCount\n",
    "        for i in postSet:\n",
    "                newGenTids = set()\n",
    "                if(firstTime):\n",
    "                    if(horizontalDatabase[clusterId].get(i) != None):  \n",
    "                        newGenTids = set(horizontalDatabase[clusterId].get(i))\n",
    "                else:\n",
    "                    newGenTids = intersectTidSet(closedSetTids, set(horizontalDatabase[clusterId].get(i)))    \n",
    "                if len(newGenTids) >= minSupport:\n",
    "                    newGen = []\n",
    "                    newGen = closedSet.copy()\n",
    "                    newGen.append(i)\n",
    "                    if(isDup(newGenTids, preSet) == False):\n",
    "                        closedSetNew = []\n",
    "                        closedSetNew = newGen.copy()\n",
    "                        closedSetNewTIDs = set()\n",
    "                        if firstTime:\n",
    "                            closedSetNewTIDs = set(horizontalDatabase[clusterId].get(i))\n",
    "                        else:\n",
    "                            for i in newGenTids:\n",
    "                                closedSetNewTIDs.add(i)      # Checkpoint\n",
    "                        postSetNew = []\n",
    "                        for j in postSet:\n",
    "                            if smallerAccToTotalOrder(i, j):\n",
    "                                if set(newGenTids).issubset(horizontalDatabase[clusterId].get(j)):\n",
    "                                    closedSetNew.append(j)\n",
    "                                    jTIDs = set(horizontalDatabase[clusterId].get(j))\n",
    "                                    it = iter(closedSetNewTIDs)\n",
    "                                    while it:\n",
    "                                        try:\n",
    "                                            tid = next(it)\n",
    "                                            if tid in jTIDs == False:\n",
    "                                                closedSetNewTIDs.remove(tid)\n",
    "                                        except StopIteration as e:\n",
    "                                            print(e)\n",
    "                                            break\n",
    "                                else:\n",
    "                                    postSetNew.append(j)\n",
    "                        # Uncomment to print FP with support\n",
    "                        # print(closedSetNew, len(closedSetNewTIDs))\n",
    "                        if clusterId in frequentPatterns:\n",
    "                            frequentPatterns[clusterId].append(closedSetNew)\n",
    "                        else:\n",
    "                            temp = [closedSetNew]\n",
    "                            frequentPatterns[clusterId] = temp  \n",
    "                        \n",
    "                        #frequentPatterns.append(closedSetNew)\n",
    "                        closedCount = closedCount + 1\n",
    "                        preSetNew = preSet\n",
    "                        dci_closed(False, closedSetNew, closedSetNewTIDs, postSetNew, preSetNew)\n",
    "                        preSet.append(i)  \n",
    "\n",
    "    dci_closed(True, closedSet, closedSetTids, postSet, preSet)\n",
    "print(closedCount)\n",
    "print(frequentPatterns)"
   ]
  },
  {
   "cell_type": "code",
   "execution_count": 64,
   "metadata": {
    "collapsed": false
   },
   "outputs": [
    {
     "name": "stdout",
     "output_type": "stream",
     "text": [
      "[1, 2, 3, 4]\n",
      "[1, 4, 2, 3]\n",
      "preset:  []\n",
      "\n",
      "\n",
      "[1, 2, 3] 2\n",
      "[1, 2, 3, 4] 1\n",
      "[3] 3\n",
      "3\n"
     ]
    }
   ],
   "source": [
    "# ============================================\n",
    "#       For numerical data (dummy data)\n",
    "# ============================================\n",
    "\n",
    "\n",
    "# ====================================================================\n",
    "#       Step 2: Initialise variables for first call to DCI_Closed\n",
    "# ====================================================================\n",
    "closedSet = []\n",
    "preSet = []\n",
    "postSet = []\n",
    "closedSetTids = set()\n",
    "closedCount = 0\n",
    "# [Changeable] User-defined minimum support threshold value\n",
    "minSupport = 1\n",
    "\n",
    "# =============================\n",
    "# Step 2-1: Creating postSet\n",
    "# =============================\n",
    "for i in range (1, maxItemId + 1):\n",
    "    tidSet = database.get(i, None)\n",
    "    if (tidSet != None and len(tidSet) >= minSupport):\n",
    "        postSet.append(i)\n",
    "        \n",
    "print(postSet)\n",
    "\n",
    "# =============================================================\n",
    "# Step 2-2: Sort postSet by ascending + lexicographical order\n",
    "# =============================================================\n",
    "def bySuppLex(item1, item2):\n",
    "    size1 = len(database.get(item1))\n",
    "    size2 = len(database.get(item2))\n",
    "    if(size1 == size2):\n",
    "        if item1 < item2:\n",
    "            return -1\n",
    "        else:\n",
    "            return 1\n",
    "    return size1 - size2\n",
    "\n",
    "def cmp_to_key(myCompare):\n",
    "    class K:\n",
    "        def __init__(self, obj, *args):\n",
    "            self.obj = obj\n",
    "        def __lt__(self, other):\n",
    "            return myCompare(self.obj, other.obj) < 0\n",
    "        def __gt__(self, other):\n",
    "            return myCompare(self.obj, other.obj) > 0\n",
    "        def __eq__(self, other):\n",
    "            return myCompare(self.obj, other.obj) == 0\n",
    "        def __le__(self, other):\n",
    "            return myCompare(self.obj, other.obj) <= 0\n",
    "        def __ge__(self, other):\n",
    "            return myCompare(self.obj, other.obj) >= 0\n",
    "        def __ne__(self, other):\n",
    "            return myCompare(self.obj, other.obj) != 0\n",
    "    return K\n",
    "\n",
    "# sort modifies the list which is called, sorted returns \n",
    "# sorted copy without changing original list\n",
    "\n",
    "postSet.sort(key = cmp_to_key(bySuppLex))\n",
    "print(postSet)\n",
    "print(\"preset: \", preSet)\n",
    "\n",
    "# ==========================================\n",
    "#  Step 3-4: DCI_Closed function\n",
    "# ==========================================    \n",
    "def dci_closed(firstTime, closedSet, closedSetTids, postSet, preSet):\n",
    "    global closedCount\n",
    "    for i in postSet:\n",
    "            newGenTids = set()\n",
    "            if(firstTime):\n",
    "                newGenTids = set(database.get(i))\n",
    "            else:\n",
    "                newGenTids = intersectTidSet(closedSetTids, set(database.get(i)))    \n",
    "            if len(newGenTids) >= minSupport:\n",
    "                newGen = []\n",
    "                newGen = closedSet.copy()\n",
    "                newGen.append(i)\n",
    "                if(isDup(newGenTids, preSet) == False):\n",
    "                    closedSetNew = []\n",
    "                    closedSetNew = newGen.copy()\n",
    "                    closedSetNewTIDs = set()\n",
    "                    if firstTime:\n",
    "                        closedSetNewTIDs = set(database.get(i))\n",
    "                    else:\n",
    "                        for i in newGenTids:\n",
    "                            closedSetNewTIDs.add(i)      # Checkpoint\n",
    "                    postSetNew = []\n",
    "                    for j in postSet:\n",
    "                        if smallerAccToTotalOrder(i, j):\n",
    "                            if set(newGenTids).issubset(database.get(j)):\n",
    "                                closedSetNew.append(j)\n",
    "                                jTIDs = set(database.get(j))\n",
    "                                it = iter(closedSetNewTIDs)\n",
    "                                while it:\n",
    "                                    try:\n",
    "                                        tid = next(it)\n",
    "                                        if tid in jTIDs == False:\n",
    "                                            closedSetNewTIDs.remove(tid)\n",
    "                                    except StopIteration as e:\n",
    "                                        print(e)\n",
    "                                        break\n",
    "                            else:\n",
    "                                postSetNew.append(j)\n",
    "                    print(closedSetNew, len(closedSetNewTIDs))\n",
    "                    closedCount = closedCount + 1\n",
    "                    preSetNew = preSet\n",
    "                    dci_closed(False, closedSetNew, closedSetNewTIDs, postSetNew, preSetNew)\n",
    "                    preSet.append(i)  \n",
    "    \n",
    "dci_closed(True, closedSet, closedSetTids, postSet, preSet)\n",
    "print(closedCount)"
   ]
  },
  {
   "cell_type": "code",
   "execution_count": 296,
   "metadata": {
    "collapsed": false
   },
   "outputs": [],
   "source": [
    "# ===================================================================\n",
    "#        Step 3: Calling DCI_Closed recursive procedure\n",
    "# ===================================================================\n",
    "\n",
    "# ==========================================\n",
    "#  Step 3-1: Find intersection of two sets\n",
    "# ==========================================\n",
    "def intersectTidSet(tidSet1, tidSet2):\n",
    "    tidSet = set()\n",
    "    if(len(tidSet1) > len(tidSet2)):\n",
    "        for tid in tidSet2:\n",
    "            if tid in tidSet1:\n",
    "                tidSet.add(tid)\n",
    "    else:\n",
    "        for tid in tidSet1:\n",
    "            if tid in tidSet2:\n",
    "                tidSet.add(tid)\n",
    "    return tidSet\n",
    "\n",
    "# =====================================================\n",
    "#  Step 3-2: Check if newGenTids is already duplicated\n",
    "# =====================================================\n",
    "    \n",
    "def isDup(newGenTids, preSet):\n",
    "    for j in preSet: \n",
    "        if(horizontalDatabase[clusterId].get(j) == None):\n",
    "            return False\n",
    "        if set(newGenTids).issubset(horizontalDatabase[clusterId].get(j)):          # Checkpoint\n",
    "            return True\n",
    "    return False\n",
    "\n",
    "# =====================================================\n",
    "#  Step 3-3: Check if item is smaller by support + lex\n",
    "# =====================================================\n",
    "def smallerAccToTotalOrder(i, j):\n",
    "    if(horizontalDatabase[clusterId].get(i) == None):\n",
    "        return True\n",
    "    if(horizontalDatabase[clusterId].get(j) == None):\n",
    "        return False\n",
    "    size1 = len(horizontalDatabase[clusterId].get(i))\n",
    "    size2 = len(horizontalDatabase[clusterId].get(j))\n",
    "    if size1 == size2:\n",
    "        if i < j:\n",
    "            return True\n",
    "        else:\n",
    "            return False\n",
    "    return size2 - size1 > 0\n"
   ]
  },
  {
   "cell_type": "code",
   "execution_count": 301,
   "metadata": {
    "collapsed": false
   },
   "outputs": [
    {
     "name": "stdout",
     "output_type": "stream",
     "text": [
      "[0, 0, 15]\n",
      "Cluster 3 has maximum number of matches with  15 matches.\n",
      "\n",
      "2\n",
      "***************************************\n",
      "Retrieved documents are as follows:\n",
      "***************************************\n",
      "0 cricket bat ball game played two team eleven player cricket field\n",
      "1 phase play called inning one team bat attempting score many run possible\n",
      "2 team one two inning apiece and first inning end team swap role next inning\n",
      "3 match begin two team captain meet pitch toss coin determine team bat first\n",
      "4 two batsman eleven fielder enter field play begin member fielding team known bowler delivers ball\n",
      "5 common dismissal cricket match bowled bowler hit stump directly ball dislodges bail batsman get out\n",
      "6 run scored two main method either hitting ball hard enough cross boundary two batsman swapping end\n",
      "7 main objective team score run opponent\n",
      "8 team batting last scored fewer run opponent said lost n run\n",
      "9 role striker batsman prevent ball hitting stump using bat and simultaneously strike well enough score run\n"
     ]
    }
   ],
   "source": [
    "# ======================================\n",
    "#  Step 4: Query Resolution\n",
    "# ======================================\n",
    "query = ['bat', 'run']\n",
    "clusterScore = []\n",
    "\n",
    "# ===================================================================\n",
    "#  Step 4-1: Picking best cluster: Calculate similarity with clusters\n",
    "# ===================================================================\n",
    "\n",
    "def intersection(list1, list2):\n",
    "    return list(set(list1) & set(list2))\n",
    "\n",
    "for i in frequentPatterns:\n",
    "    ithCluster = frequentPatterns[i]\n",
    "    currScore = 0\n",
    "    for j in range(0, len(ithCluster)):\n",
    "        if(len(intersection(ithCluster[j], query)) != 0):\n",
    "            currScore+=1\n",
    "    clusterScore.append(currScore)\n",
    "print(clusterScore)\n",
    "\n",
    "maxScore = max(clusterScore)\n",
    "clusterWithMaxScore = clusterScore.index(maxScore)\n",
    "print(\"Cluster\", clusterWithMaxScore+1, \"has maximum number of matches with \", maxScore, \"matches.\\n\")\n",
    "\n",
    "# ======================================================================\n",
    "#  Step 4-2: Picking best documents: Calculate similarity with documents\n",
    "# ======================================================================\n",
    "\n",
    "print(clusterWithMaxScore)\n",
    "print(\"***************************************\")\n",
    "print(\"Retrieved documents are as follows:\")\n",
    "print(\"***************************************\")\n",
    "for i in range(0, len(idea['Cluster'])):\n",
    "    if(idea['Cluster'][i] == clusterWithMaxScore):\n",
    "        print(i, idea['Idea'][i])"
   ]
  },
  {
   "cell_type": "code",
   "execution_count": 322,
   "metadata": {
    "collapsed": false
   },
   "outputs": [
    {
     "name": "stdout",
     "output_type": "stream",
     "text": [
      "Requirement already satisfied: pyfpgrowth in /home/aditi/anaconda3/lib/python3.5/site-packages (1.0)\n",
      "\u001b[33mYou are using pip version 18.1, however version 19.3.1 is available.\n",
      "You should consider upgrading via the 'pip install --upgrade pip' command.\u001b[0m\n"
     ]
    }
   ],
   "source": [
    "!pip install pyfpgrowth\n",
    "import pyfpgrowth"
   ]
  },
  {
   "cell_type": "code",
   "execution_count": 335,
   "metadata": {
    "collapsed": false
   },
   "outputs": [
    {
     "ename": "KeyboardInterrupt",
     "evalue": "",
     "output_type": "error",
     "traceback": [
      
     ]
    }
   ],
   "source": [
    "# ============================================================\n",
    "#   Modification-4 : Implemented FP-Growth algorithm\n",
    "# ============================================================\n",
    "\n",
    "\n",
    "test = idea['Idea'][24:29]\n",
    "patterns = pyfpgrowth.find_frequent_patterns(test, 4)"
   ]
  },
  {
   "cell_type": "code",
   "execution_count": null,
   "metadata": {
    "collapsed": true
   },
   "outputs": [],
   "source": []
  }
 ],
 "metadata": {
  "anaconda-cloud": {},
  "kernelspec": {
   "display_name": "Python [conda env:anaconda3]",
   "language": "python",
   "name": "conda-env-anaconda3-py"
  },
  "language_info": {
   "codemirror_mode": {
    "name": "ipython",
    "version": 3
   },
   "file_extension": ".py",
   "mimetype": "text/x-python",
   "name": "python",
   "nbconvert_exporter": "python",
   "pygments_lexer": "ipython3",
   "version": "3.5.5"
  }
 },
 "nbformat": 4,
 "nbformat_minor": 1
}
